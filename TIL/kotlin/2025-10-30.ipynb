{
 "cells": [
  {
   "metadata": {},
   "cell_type": "markdown",
   "source": "# 2025-10-30 목요일 / 클래스 레퍼런스 타입과 참조\n"
  },
  {
   "cell_type": "code",
   "metadata": {
    "collapsed": true,
    "ExecuteTime": {
     "end_time": "2025-10-30T07:30:33.374980100Z",
     "start_time": "2025-10-30T07:30:33.300182300Z"
    }
   },
   "source": [
    "class Person(val name: String, val age: Int)\n",
    "\n",
    "fun main() {\n",
    "    val number = 10           // Stack에 primitive 값 직접 저장\n",
    "    val person = Person(\"lee\", 25)  // person에는 Person 객체 주소 저장. Person 객체는 힙 영역에 있다.\n",
    "}\n",
    "\n",
    "main()"
   ],
   "outputs": [],
   "execution_count": 19
  },
  {
   "metadata": {},
   "cell_type": "markdown",
   "source": "참조 비교 예시"
  },
  {
   "metadata": {
    "ExecuteTime": {
     "end_time": "2025-10-30T07:11:40.418020400Z",
     "start_time": "2025-10-30T07:11:40.275816400Z"
    }
   },
   "cell_type": "code",
   "source": [
    "class Person(val name: String, val age: Int)\n",
    "\n",
    "fun main() {\n",
    "    val person1 = Person(\"새싹\", 25)\n",
    "    val person2 = Person(\"새싹\", 25)\n",
    "    val person3 = person1  // 같은 참조\n",
    "\n",
    "    // 내용 비교\n",
    "    println(person1 == person2)  // false (내용 비교, data class가 아니므로)\n",
    "\n",
    "    // 주소값 비교\n",
    "    println(person1 === person2)  // false (다른 객체)\n",
    "    println(person1 === person3)  // true (같은 객체)\n",
    "\n",
    "    // 메모리 주소 확인\n",
    "    println(System.identityHashCode(person1))  // 예: 1829164700\n",
    "    println(System.identityHashCode(person2))  // 예: 2018699554 (다른 값)\n",
    "    println(System.identityHashCode(person3))  // 예: 1829164700 (person1과 동일)\n",
    "}\n",
    "\n",
    "main()"
   ],
   "outputs": [
    {
     "name": "stdout",
     "output_type": "stream",
     "text": [
      "false\r\n",
      "false\r\n",
      "true\r\n",
      "1736044937\r\n",
      "568152295\r\n",
      "1736044937\r\n"
     ]
    }
   ],
   "execution_count": 7
  },
  {
   "metadata": {},
   "cell_type": "markdown",
   "source": [
    "---\n",
    "클래스의 init 블록은 객체가 생성될 때 실행되는 **초기화 블록(Initializer Block)**입니다."
   ]
  },
  {
   "metadata": {
    "ExecuteTime": {
     "end_time": "2025-10-30T07:18:47.869952300Z",
     "start_time": "2025-10-30T07:18:47.756608300Z"
    }
   },
   "cell_type": "code",
   "source": [
    "class Person(val name: String, val age: Int) {\n",
    "    var hp: Int = 0\n",
    "    var mp: Int = 0\n",
    "\n",
    "    init {\n",
    "        println(\"Person 객체 생성: $name, $age\")\n",
    "        hp = 10\n",
    "        mp = 10\n",
    "        // val person = Person(\"lee\", 10) // 무한으로 실행이 된다.\n",
    "    }\n",
    "}\n",
    "\n",
    "fun main() {\n",
    "    val person = Person(\"새싹\", 25)\n",
    "    println(person.hp)\n",
    "}\n",
    "\n",
    "main()"
   ],
   "outputs": [
    {
     "name": "stdout",
     "output_type": "stream",
     "text": [
      "Person 객체 생성: 새싹, 25\r\n",
      "10\r\n"
     ]
    }
   ],
   "execution_count": 14
  },
  {
   "metadata": {},
   "cell_type": "markdown",
   "source": [
    "---\n",
    "생성자와 init의 실행 순서\n",
    "init 블록과 프로퍼티 초기화는 클래스 본문에 작성된 순서대로 위에서 아래로 실행됩니다."
   ]
  },
  {
   "metadata": {
    "ExecuteTime": {
     "end_time": "2025-10-30T07:22:04.602588700Z",
     "start_time": "2025-10-30T07:22:04.248904700Z"
    }
   },
   "cell_type": "code",
   "source": [
    "class InitOrderDemo(name: String) {\n",
    "    val firstProperty = \"First property: $name\".also(::println)\n",
    "\n",
    "    init {\n",
    "        println(\"First initializer block that prints $name\")\n",
    "    }\n",
    "\n",
    "    val secondProperty = \"Second property: ${name.length}\".also(::println)\n",
    "\n",
    "    init {\n",
    "        println(\"Second initializer block that prints ${name.length}\")\n",
    "    }\n",
    "}\n",
    "\n",
    "fun main() {\n",
    "    InitOrderDemo(\"hello\")\n",
    "}\n",
    "\n",
    "main()\n"
   ],
   "outputs": [
    {
     "name": "stdout",
     "output_type": "stream",
     "text": [
      "First property: hello\r\n",
      "First initializer block that prints hello\r\n",
      "Second property: 5\r\n",
      "Second initializer block that prints 5\r\n"
     ]
    }
   ],
   "execution_count": 15
  },
  {
   "metadata": {},
   "cell_type": "markdown",
   "source": [
    "---\n",
    "생성자와 init의 실행 순서"
   ]
  },
  {
   "metadata": {
    "ExecuteTime": {
     "end_time": "2025-10-30T07:29:45.604765700Z",
     "start_time": "2025-10-30T07:29:45.471056500Z"
    }
   },
   "cell_type": "code",
   "source": [
    "class Button(var id: Int) {  // 주 생성자\n",
    "    var text: String = \"\"\n",
    "\n",
    "    init {\n",
    "        println(\"Initializer Block 1: $id, $text\")\n",
    "    }\n",
    "\n",
    "    init {\n",
    "        println(\"Initializer Block 2: $id, $text\")\n",
    "    }\n",
    "\n",
    "    constructor(id: Int, text: String) : this(id) {  // 부 생성자\n",
    "        this.text = text\n",
    "        println(\"Secondary constructor: ${this.id}, ${this.text}\")\n",
    "    }\n",
    "\n",
    "    init {\n",
    "        println(\"Initializer Block 3: $id, $text\")\n",
    "        this.doSomething()\n",
    "    }\n",
    "\n",
    "    fun doSomething() {\n",
    "        println(\"do-ob value: $id\")\n",
    "    }\n",
    "}\n",
    "\n",
    "fun main() {\n",
    "    val button = Button(101, \"Button2\")\n",
    "}\n",
    "\n",
    "main()"
   ],
   "outputs": [
    {
     "name": "stdout",
     "output_type": "stream",
     "text": [
      "Initializer Block 1: 101, \r\n",
      "Initializer Block 2: 101, \r\n",
      "Initializer Block 3: 101, \r\n",
      "do-ob value: 101\r\n",
      "Secondary constructor: 101, Button2\r\n"
     ]
    }
   ],
   "execution_count": 18
  },
  {
   "metadata": {},
   "cell_type": "markdown",
   "source": [
    "---\n",
    "\n",
    "companion object는 실제 객체 인스턴스"
   ]
  },
  {
   "metadata": {
    "ExecuteTime": {
     "end_time": "2025-10-30T08:46:02.577323200Z",
     "start_time": "2025-10-30T08:46:02.427046Z"
    }
   },
   "cell_type": "code",
   "source": [
    "class MyClass {\n",
    "    companion object {\n",
    "        val prop = \"companion\"\n",
    "        fun method() = \"method\"\n",
    "    }\n",
    "}\n",
    "\n",
    "fun main() {\n",
    "    // 축약 표현\n",
    "    MyClass.prop\n",
    "    MyClass.method()\n",
    "\n",
    "    // 실제로는 객체에 접근하는 것\n",
    "    MyClass.Companion.prop\n",
    "    MyClass.Companion.method()\n",
    "\n",
    "    // 객체를 변수에 할당 가능\n",
    "    val companionObj = MyClass.Companion\n",
    "    println(companionObj.prop)\n",
    "\n",
    "    val myClass = MyClass()\n",
    "    println(System.identityHashCode(myClass))\n",
    "\n",
    "    val ref = companionObj\n",
    "    println(System.identityHashCode(ref))\n",
    "    println(System.identityHashCode(companionObj))\n",
    "\n",
    "}\n",
    "\n",
    "main()"
   ],
   "outputs": [
    {
     "name": "stdout",
     "output_type": "stream",
     "text": [
      "companion\r\n",
      "281168787\r\n",
      "804521253\r\n",
      "804521253\r\n"
     ]
    }
   ],
   "execution_count": 25
  },
  {
   "metadata": {},
   "cell_type": "markdown",
   "source": [
    "---\n",
    "companion object 초기화 시점\n"
   ]
  },
  {
   "metadata": {
    "ExecuteTime": {
     "end_time": "2025-10-30T08:57:43.785595900Z",
     "start_time": "2025-10-30T08:57:43.673222700Z"
    }
   },
   "cell_type": "code",
   "source": [
    "class MyClass {\n",
    "    init {\n",
    "        println(\"MyClass Object Initialized! 1\")\n",
    "    }\n",
    "\n",
    "    companion object {\n",
    "        init {\n",
    "            println(\"Companion Object Initialized! 1\")\n",
    "        }\n",
    "\n",
    "        const val VERSION = \"1.0\"\n",
    "        fun getVersion() = VERSION\n",
    "\n",
    "        init {\n",
    "            println(\"Companion Object Initialized! 2\")\n",
    "        }\n",
    "    }\n",
    "\n",
    "    init {\n",
    "        println(\"MyClass Object Initialized! 2\")\n",
    "    }\n",
    "\n",
    "    constructor() {  // 부 생성자\n",
    "        println(\"Secondary constructor:\")\n",
    "\n",
    "    }\n",
    "\n",
    "    init {\n",
    "        println(\"MyClass Object Initialized! 3\")\n",
    "    }\n",
    "}\n",
    "\n",
    "fun main() {\n",
    "    // println(MyClass.VERSION)\n",
    "    // println(MyClass.getVersion())\n",
    "\n",
    "    val myClass = MyClass()\n",
    "\n",
    "}\n",
    "\n",
    "main()"
   ],
   "outputs": [
    {
     "name": "stdout",
     "output_type": "stream",
     "text": [
      "Companion Object Initialized! 1\r\n",
      "Companion Object Initialized! 2\r\n",
      "MyClass Object Initialized! 1\r\n",
      "MyClass Object Initialized! 2\r\n",
      "MyClass Object Initialized! 3\r\n",
      "Secondary constructor:\r\n"
     ]
    }
   ],
   "execution_count": 34
  },
  {
   "metadata": {},
   "cell_type": "code",
   "outputs": [],
   "execution_count": null,
   "source": ""
  }
 ],
 "metadata": {
  "kernelspec": {
   "display_name": "Kotlin",
   "language": "kotlin",
   "name": "kotlin"
  },
  "language_info": {
   "name": "kotlin",
   "version": "2.2.20-Beta2",
   "mimetype": "text/x-kotlin",
   "file_extension": ".kt",
   "pygments_lexer": "kotlin",
   "codemirror_mode": "text/x-kotlin",
   "nbconvert_exporter": ""
  }
 },
 "nbformat": 4,
 "nbformat_minor": 0
}
