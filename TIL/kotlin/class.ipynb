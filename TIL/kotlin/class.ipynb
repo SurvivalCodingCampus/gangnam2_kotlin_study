{
 "cells": [
  {
   "metadata": {},
   "cell_type": "markdown",
   "source": "# 클래스"
  },
  {
   "metadata": {},
   "cell_type": "markdown",
   "source": [
    "## 레퍼런스 타입과 참조\n",
    "\n",
    "- 가상세계 = 컴퓨터의 메모리 영역\n",
    "- 인스턴스 = heap 영역 안에 확보된 메모리\n",
    "\n",
    "### Hero 클래스를 인스턴스화 하여 이용하는 코드\n",
    "\n",
    "`val hero = Hero(name = \"용사\", hp = 100)`\n",
    "`hero`에 `Hero()` 생성한 주소가 담김"
   ]
  },
  {
   "metadata": {},
   "cell_type": "markdown",
   "source": "### 두 개의 Hero 형 변수"
  },
  {
   "metadata": {},
   "cell_type": "code",
   "outputs": [],
   "execution_count": null,
   "source": [
    "val hero1 = Hero(name = \"홍길동\", hp = 100)\n",
    "val hero2 = hero1\n",
    "hero2.hp = 200\n",
    "\n",
    "println(hero1.hp)"
   ]
  },
  {
   "metadata": {},
   "cell_type": "markdown",
   "source": [
    "- `hero2`에 `hero1`에 할당된 주소가 담김\n",
    "- 인스턴스는 1개"
   ]
  },
  {
   "metadata": {},
   "cell_type": "markdown",
   "source": "### Sword 형 필드를 가지는 클래스"
  },
  {
   "metadata": {
    "ExecuteTime": {
     "end_time": "2025-10-30T06:50:57.735237Z",
     "start_time": "2025-10-30T06:50:57.612225Z"
    }
   },
   "cell_type": "code",
   "outputs": [],
   "execution_count": 1,
   "source": [
    "class Sword(\n",
    "    val name: String,\n",
    "    val damage: Int,\n",
    ")\n",
    "\n",
    "class Hero(\n",
    "    var name: String,\n",
    "    var hp: Int,\n",
    "    var sword: Sword? = null,\n",
    ")"
   ]
  },
  {
   "metadata": {},
   "cell_type": "markdown",
   "source": [
    "## 생성자 (constructor)\n",
    "\n",
    "### named arguments\n",
    "\n",
    "- 함수를 호출할 때 인수 중 하나 이상의 이름을 지정할 수 있다\n",
    "- 순서를 자유롭게 변경할 수 있다\n",
    "- 가독성이 좋아진다."
   ]
  },
  {
   "metadata": {},
   "cell_type": "code",
   "outputs": [],
   "execution_count": null,
   "source": [
    "val sword = Sword(name = \"불꽃의 검\", damage = 5)\n",
    "\n",
    "val hero1 = Hero(name = \"슈퍼맨\", hp = 100)\n",
    "val hero2 = Hero(name = \"배트맨\", hp = 100, sword = sword)"
   ]
  },
  {
   "metadata": {},
   "cell_type": "markdown",
   "source": "### companion object"
  },
  {
   "metadata": {},
   "cell_type": "code",
   "outputs": [],
   "execution_count": null,
   "source": [
    "import kotlin.random.Random\n",
    "\n",
    "class Hero(\n",
    "    var name: String,\n",
    "    var hp: Int,\n",
    "    var sword: Sword? = null,\n",
    ") {\n",
    "    companion object {\n",
    "        var MONEY = 100\n",
    "\n",
    "        fun setRandomMoney() {\n",
    "            MONEY = Random.nextInt(1000)\n",
    "//            println(\"${name}의 소지금을 추가했다\") // 접근 불가\n",
    "        }\n",
    "    }\n",
    "}\n",
    "\n",
    "// 영웅을 1개도 생성하지 않아도 돈을 사용할 수 있음\n",
    "Hero.MONEY = 200\n",
    "println(Hero.MONEY)\n",
    "\n",
    "Hero.setRandomMoney()\n",
    "println(Hero.MONEY)"
   ]
  }
 ],
 "metadata": {
  "kernelspec": {
   "display_name": "Kotlin",
   "language": "kotlin",
   "name": "kotlin"
  },
  "language_info": {
   "name": "kotlin",
   "version": "2.2.20-Beta2",
   "mimetype": "text/x-kotlin",
   "file_extension": ".kt",
   "pygments_lexer": "kotlin",
   "codemirror_mode": "text/x-kotlin",
   "nbconvert_exporter": ""
  }
 },
 "nbformat": 4,
 "nbformat_minor": 0
}
