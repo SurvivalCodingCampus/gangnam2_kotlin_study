{
 "cells": [
  {
   "metadata": {},
   "cell_type": "markdown",
   "source": [
    "# 캡슐화 (encapsulation)\n",
    "\n",
    "이제 클래스나 인스턴스를 이용하여 현실세계를 객체 지향 프로그램으로 자유롭게 개발 할 수 있게 되었다.\n",
    "하지만, 실수로 속성을 덮어 쓰거나, 잘못된 조작 하는 등의 휴먼 에러 (human error) 를 완전히 없앨 수는 없다.\n",
    "그래서 실수를 미연에 방지하는 \"캡슐화\" 를 활용해 보자\n",
    "\n",
    "## 멤버에 대한 액세스 제어\n",
    "\n",
    "접근 지정자 (access modifier)\n",
    "\n",
    "| 제한 범위  | 명칭      | 설정 방법       | 접근 가능한 범위  |\n",
    "| ------ | ------- | ----------- | ---------- |\n",
    "| 제한이 엄격 | private | private 키워드 | 자기 자신의 클래스 |\n",
    "| 제한이 느슨 | public  | 기본 값        | 모든 클래스     |\n",
    "\n",
    "## getter 와 setter\n",
    "\n",
    "메소드를 경유한 필드 조작\n",
    "- getter: 읽기 전용 프로퍼티를 구현할 때 사용\n",
    "- setter: 쓰기 전용 프로퍼티를 구현할 때 사용 (잘 안 씀)"
   ]
  },
  {
   "metadata": {},
   "cell_type": "markdown",
   "source": "### Hero 클래스에 hp getter를 추가 (프로퍼티)"
  },
  {
   "cell_type": "code",
   "execution_count": null,
   "metadata": {
    "collapsed": true
   },
   "outputs": [],
   "source": [
    "class Hero(\n",
    "    var name: String,\n",
    "    hp: Int, // 생성자 파라미터로만 사용\n",
    ") {\n",
    "    private var _hp = hp // 내부에서 _로 선언\n",
    "    val hp: Int\n",
    "        get() = _hp // 데이터를 외부에 노출하는 방법 (읽기 전용)\n",
    "}"
   ]
  },
  {
   "metadata": {},
   "cell_type": "markdown",
   "source": "### 같은 목적을 가지는 다른 방식의 코드"
  },
  {
   "metadata": {},
   "cell_type": "code",
   "outputs": [],
   "execution_count": null,
   "source": [
    "class Hero(\n",
    "    var name: String,\n",
    "    hp: Int = 100,\n",
    ") { // 초기화\n",
    "    var hp: Int = hp\n",
    "        private set // 세터를 막음\n",
    "}"
   ]
  },
  {
   "metadata": {},
   "cell_type": "markdown",
   "source": [
    "## getter / setter 의 메리트\n",
    "\n",
    "1. Read Only, Write Only 필드의 실현\n",
    "2. 필드의 이름 등, 클래스의 내부 설계를 자유롭게 변경 가능\n",
    "3. 필드로의 액세스를 검사 가능\n",
    "4. val 은 getter 를 기본적으로 내장, var 는 getter와 setter를 내장"
   ]
  },
  {
   "metadata": {},
   "cell_type": "markdown",
   "source": [
    "### setter 에서 값의 타당성을 검사\n",
    "\n",
    "생성자에 var, val 이 없으면 getter, setter 가 없는 것으로 간주함. 즉 멤버가 아님.\n",
    "backing field 는 프로퍼티의 값을 저장하기 위한 실제 필드 값. field 로 접근 가능\n",
    "setter 안에서만 field 사용 가능"
   ]
  },
  {
   "metadata": {},
   "cell_type": "code",
   "outputs": [],
   "execution_count": null,
   "source": [
    "class Hero(\n",
    "    name: String,\n",
    "    var hp: Int,\n",
    ") {\n",
    "    var name: String = name\n",
    "        set(value) {\n",
    "            if (value.length <= 1) {\n",
    "                throw IllegalArgumentException(\"이름이 너무 짧습니다\")\n",
    "            }\n",
    "            if (value.length >= 8) {\n",
    "                throw IllegalArgumentException(\"이름이 너무 깁니다\")\n",
    "            }\n",
    "            field = value\n",
    "        }\n",
    "}"
   ]
  },
  {
   "metadata": {},
   "cell_type": "markdown",
   "source": "### require() 확장함수 활용"
  },
  {
   "metadata": {},
   "cell_type": "code",
   "outputs": [],
   "execution_count": null,
   "source": [
    "class Hero(\n",
    "    name: String,\n",
    "    var hp: Int,\n",
    ") {\n",
    "    var name: String = name\n",
    "        set(value) {\n",
    "            require(value.length > 1) { \"이름이 너무 짧습니다\" }\n",
    "            require(value.length < 8) { \"이름이 너무 깁니다\" }\n",
    "            field = value\n",
    "        }\n",
    "}"
   ]
  },
  {
   "metadata": {},
   "cell_type": "markdown",
   "source": [
    "## 캡슐화에 대한 생각\n",
    "\n",
    "- 개발자의 잘못된 접근에 대한 제어 방법을 제공\n",
    "- 현실세계와 동일하게 프로그래밍 하려는 제어 방법"
   ]
  }
 ],
 "metadata": {
  "kernelspec": {
   "display_name": "Kotlin",
   "language": "kotlin",
   "name": "kotlin"
  },
  "language_info": {
   "name": "kotlin",
   "version": "2.2.20-Beta2",
   "mimetype": "text/x-kotlin",
   "file_extension": ".kt",
   "pygments_lexer": "kotlin",
   "codemirror_mode": "text/x-kotlin",
   "nbconvert_exporter": ""
  }
 },
 "nbformat": 4,
 "nbformat_minor": 0
}
