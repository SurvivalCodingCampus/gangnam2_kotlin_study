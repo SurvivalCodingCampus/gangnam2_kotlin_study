{
 "cells": [
  {
   "metadata": {},
   "cell_type": "markdown",
   "source": [
    "컬렉션(Collection)\n",
    "\n",
    "데이터 구조에 따른 대표적인 컬렉션 (자료구조)\n",
    "1. List : 순서 대로 쌓여있는 구조 (아이템의 중복 허용)\n",
    "2. Map : 키(key)와 값(value)의 쌍으로 저장 (키의 중복 불가)\n",
    "3. Set : 순서가 없는 집합 (중복 불가)\n",
    "\n",
    "\n",
    "\n"
   ]
  },
  {
   "metadata": {},
   "cell_type": "markdown",
   "source": [
    "---\n",
    "List (리스트)\n",
    "\n",
    "List는 순서가 있는 요소들의 집합으로, 배열처럼 인덱스를 이용해 직접 접근할 수 있습니다.\n",
    "\n",
    "특징:\n",
    "중복된 값을 가질 수 있습니다.\n",
    "인덱스를 통한 직접 접근이 가능합니다.\n",
    "추가, 삭제, 교체가 용이합니다.\n",
    "\n"
   ]
  },
  {
   "cell_type": "code",
   "metadata": {
    "collapsed": true,
    "ExecuteTime": {
     "end_time": "2025-10-31T11:08:34.289058200Z",
     "start_time": "2025-10-31T11:08:33.888375700Z"
    }
   },
   "source": [
    "val list1: ArrayList<Int> = ArrayList()\n",
    "list1.add(1)\n",
    "list1.add(2)\n",
    "println(list1) // [1, 2]\n",
    "\n"
   ],
   "outputs": [
    {
     "name": "stdout",
     "output_type": "stream",
     "text": [
      "[1, 2]\r\n"
     ]
    }
   ],
   "execution_count": 2
  },
  {
   "metadata": {
    "ExecuteTime": {
     "end_time": "2025-10-31T11:08:53.207734900Z",
     "start_time": "2025-10-31T11:08:53.063977200Z"
    }
   },
   "cell_type": "code",
   "source": [
    "val list2: MutableList<Int> = mutableListOf(1, 2, 3)\n",
    "list2.add(4)\n",
    "println(list2) // [1, 2, 3, 4]\n"
   ],
   "outputs": [
    {
     "name": "stdout",
     "output_type": "stream",
     "text": [
      "[1, 2, 3, 4]\r\n"
     ]
    }
   ],
   "execution_count": 3
  },
  {
   "metadata": {
    "ExecuteTime": {
     "end_time": "2025-10-31T11:14:28.758854300Z",
     "start_time": "2025-10-31T11:14:28.578723100Z"
    }
   },
   "cell_type": "code",
   "source": [
    "// 불변 List 생성:\n",
    "val immutableList: List<String> = listOf(\"A\", \"B\", \"C\")\n",
    "val emptyList: List<String> = emptyList()\n",
    "val notNullList: List<Int> = listOfNotNull(1, null, 2) // [1, 2]\n"
   ],
   "outputs": [],
   "execution_count": 4
  },
  {
   "metadata": {},
   "cell_type": "code",
   "outputs": [],
   "execution_count": null,
   "source": ""
  }
 ],
 "metadata": {
  "kernelspec": {
   "display_name": "Kotlin",
   "language": "kotlin",
   "name": "kotlin"
  },
  "language_info": {
   "name": "kotlin",
   "version": "2.2.20-Beta2",
   "mimetype": "text/x-kotlin",
   "file_extension": ".kt",
   "pygments_lexer": "kotlin",
   "codemirror_mode": "text/x-kotlin",
   "nbconvert_exporter": ""
  }
 },
 "nbformat": 4,
 "nbformat_minor": 0
}
