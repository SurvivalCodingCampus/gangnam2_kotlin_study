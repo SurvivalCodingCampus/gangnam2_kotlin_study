{
 "cells": [
  {
   "metadata": {},
   "cell_type": "markdown",
   "source": "# 2025-10-29 수요일 : 클래스"
  },
  {
   "metadata": {},
   "cell_type": "markdown",
   "source": [
    "### 용어 정리\n",
    "- 오브젝트(object): 현실 세계의 모든 객체\n",
    "- 클래스(class): 오브젝트를 가상세계 용으로 구체화 한 것(붕어빵 틀)\n",
    "- 인스턴스(instance): 클래스를 활용 해 메모리 상에 만들어 낸 것(붕어빵)\n"
   ]
  },
  {
   "metadata": {
    "ExecuteTime": {
     "end_time": "2025-10-29T05:52:10.514851800Z",
     "start_time": "2025-10-29T05:52:10.285948300Z"
    }
   },
   "cell_type": "code",
   "source": [
    "// 클래스 정의\n",
    "// (val name: String, val hp: Int) -> 주 생성자(Primary Constructor)\n",
    "// val을 붙이면 클래스의 속성(Property)이 됩니다.\n",
    "class Hero(val name: String, val hp: Int) {\n",
    "\n",
    "    // 초기화 블록 (init)\n",
    "    // 객체가 생성될 때(생성자 호출 시) 실행됩니다.\n",
    "    init {\n",
    "        println(\"name: $name / hp: ($hp) 객체 생성 완료!\")\n",
    "    }\n",
    "\n",
    "    // Method\n",
    "    fun attack() = println(\"$name 은 공격중\")\n",
    "    fun run() {}\n",
    "    fun sleep() {}\n",
    "}"
   ],
   "outputs": [],
   "execution_count": 6
  },
  {
   "metadata": {
    "ExecuteTime": {
     "end_time": "2025-10-29T05:43:36.782851700Z",
     "start_time": "2025-10-29T05:43:36.675139600Z"
    }
   },
   "cell_type": "code",
   "source": [
    "class Slime(val hp: Int) {\n",
    "    // 필드(field)를 상수로 선언\n",
    "    val level = 10\n",
    "}"
   ],
   "outputs": [],
   "execution_count": 3
  },
  {
   "metadata": {
    "ExecuteTime": {
     "end_time": "2025-10-29T05:52:21.795393500Z",
     "start_time": "2025-10-29T05:52:21.701645400Z"
    }
   },
   "cell_type": "code",
   "source": [
    "// 가상 세계에 용사를 생성\n",
    "val hero = Hero(name = \"lee\", hp = 999)\n",
    "hero.attack()"
   ],
   "outputs": [
    {
     "name": "stdout",
     "output_type": "stream",
     "text": [
      "name: lee / hp: (999) 객체 생성 완료!\r\n",
      "lee 은 공격중\r\n"
     ]
    }
   ],
   "execution_count": 8
  },
  {
   "metadata": {},
   "cell_type": "markdown",
   "source": [
    "### 클래스/멤버변수 네이밍 컨벤션\n",
    "\n",
    "| 구분          | 품사   | 네이밍 규칙                                         | 예시                                      |\n",
    "| ------------- | ------ | -------------------------------------------------- | ------------------------------------------ |\n",
    "| 클래스명      | 명사   | 단어의 맨 처음은 대문자 (Pascal)                   | Hero, MonsterInfo                         |\n",
    "| 필드명        | 명사   | 최초 이외의 단어의 맨 처음은 대문자 (camel)        | level, items, itemList                    |\n",
    "| 메소드명      | 동사   | 최초 이외의 단어의 맨 처음은 대문자 (camel)        | attack, findWeakPoint                     |\n",
    "\n",
    "***\n",
    "\n",
    "- **클래스명**은 단어의 첫 글자를 반드시 대문자로 작성 (PascalCase)\n",
    "- **필드/메소드명**은 camelCase로 작성하며, 필드는 명사, 메소드는 동사를 사용\n"
   ]
  },
  {
   "metadata": {},
   "cell_type": "markdown",
   "source": [
    "### 자바와 코틀린의 클래스 생성 차이점\n",
    "\n",
    "**1. 기본 문법**\n",
    "- 자바는 클래스를 만들 때 반드시 `class` 키워드를 사용하고, 파일명과 클래스명이 일치해야 합니다.\n",
    "- 코틀린 역시 `class` 키워드를 사용하지만, 하나의 파일에 여러 클래스를 넣을 수 있습니다.\n",
    "\n",
    "**2. 생성자 선언 방법**\n",
    "| 구분         | 자바 예시                              | 코틀린 예시                       |\n",
    "|--------------|----------------------------------------|-----------------------------------|\n",
    "| 기본 클래스  | `class Person {}`                      | `class Person`                    |\n",
    "| 생성자       | `class Person { Person(String name) {}` | `class Person(val name: String)`  |\n",
    "\n",
    "자바는 생성자(메서드)를 클래스 블록 안에서 별도로 정의해야 하지만,\n",
    "코틀린은 클래스 옆에 바로 생성자 파라미터 (`val`, `var` 사용 시 필드 자동 생성)가 가능합니다.\n",
    "\n",
    "**3. 프로퍼티 선언 및 접근**\n",
    "- 자바는 멤버 필드와 getter/setter를 각각 정의해야 합니다.\n",
    "- 코틀린은 필드 선언에 `val`(읽기전용), `var`(읽기/쓰기)가 붙으며, 자동으로 getter/setter가 생성됩니다.\n",
    "\n"
   ]
  },
  {
   "metadata": {},
   "cell_type": "code",
   "outputs": [],
   "execution_count": null,
   "source": ""
  }
 ],
 "metadata": {
  "kernelspec": {
   "display_name": "Kotlin",
   "language": "kotlin",
   "name": "kotlin"
  },
  "language_info": {
   "name": "kotlin",
   "version": "2.2.20-Beta2",
   "mimetype": "text/x-kotlin",
   "file_extension": ".kt",
   "pygments_lexer": "kotlin",
   "codemirror_mode": "text/x-kotlin",
   "nbconvert_exporter": ""
  }
 },
 "nbformat": 4,
 "nbformat_minor": 0
}
