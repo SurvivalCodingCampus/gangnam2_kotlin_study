{
 "cells": [
  {
   "metadata": {},
   "cell_type": "markdown",
   "source": "# Hello world"
  },
  {
   "metadata": {
    "collapsed": true,
    "ExecuteTime": {
     "end_time": "2025-10-28T03:05:38.309357Z",
     "start_time": "2025-10-28T03:05:38.273918Z"
    }
   },
   "cell_type": "code",
   "outputs": [],
   "execution_count": 5,
   "source": [
    "fun main() {\n",
    "    println(\"Hello world!\")\n",
    "}\n",
    "\n",
    "main()"
   ]
  },
  {
   "metadata": {},
   "cell_type": "markdown",
   "source": [
    "Java와 차이점\n",
    "- `class`뿐만 아니라 `file`도 생성 가능\n",
    "- `;` 안 붙여도 됨"
   ]
  },
  {
   "metadata": {},
   "cell_type": "markdown",
   "source": "## Variables"
  },
  {
   "metadata": {},
   "cell_type": "code",
   "outputs": [],
   "execution_count": null,
   "source": [
    "// 상수\n",
    "val x = 5 // 타입 추론\n",
    "val s: String = \"Hello\"\n",
    "//x = 4 // compile error\n",
    "\n",
    "// 변수\n",
    "var y = 5\n",
    "y++"
   ]
  },
  {
   "metadata": {},
   "cell_type": "code",
   "outputs": [],
   "execution_count": null,
   "source": [
    "const val PI = 3.14 // 컴파일타임 상수\n",
    "val PI2 = 3.14 // 런타임 상수\n",
    "var x = 0\n",
    "\n",
    "fun main() {\n",
    "}"
   ]
  },
  {
   "metadata": {},
   "cell_type": "markdown",
   "source": "## String templates"
  },
  {
   "metadata": {},
   "cell_type": "code",
   "outputs": [],
   "execution_count": null,
   "source": [
    "fun printSum(a: Int, b: Int) {\n",
    "    println(\"sum of $a and $b is ${a + b}\")\n",
    "}\n",
    "\n",
    "printSum(1, 2)"
   ]
  },
  {
   "metadata": {},
   "cell_type": "markdown",
   "source": "# Basic types"
  },
  {
   "metadata": {},
   "cell_type": "code",
   "outputs": [],
   "execution_count": null,
   "source": [
    "val x: Int = 5\n",
    "//val z: Long = x // error\n",
    "val z: Long = x.toLong()\n",
    "\n",
    "var y = 5\n",
    "//y = 10L // error\n",
    "y = 10L.toInt()"
   ]
  },
  {
   "metadata": {},
   "cell_type": "markdown",
   "source": [
    "Java와 차이점\n",
    "- primitive type 없음"
   ]
  },
  {
   "metadata": {},
   "cell_type": "markdown",
   "source": [
    "# Control flow\n",
    "\n",
    "## Conditional expressions"
   ]
  },
  {
   "metadata": {},
   "cell_type": "code",
   "outputs": [],
   "execution_count": null,
   "source": [
    "val a = 1\n",
    "val b = 2\n",
    "\n",
    "// if expression 식\n",
    "val result = if (a > b) a else b\n",
    "\n",
    "println(result)\n",
    "\n",
    "val result2 = when (a) {\n",
    "    1 -> 10\n",
    "    2 -> 20\n",
    "    else -> 30\n",
    "}\n",
    "\n",
    "println(result2)"
   ]
  },
  {
   "metadata": {},
   "cell_type": "markdown",
   "source": [
    "Java와 차이점\n",
    "- 3항 연산자 없음"
   ]
  },
  {
   "metadata": {},
   "cell_type": "markdown",
   "source": "## Ranges"
  },
  {
   "metadata": {},
   "cell_type": "code",
   "outputs": [],
   "execution_count": null,
   "source": [
    "val list: List<Int> = (1..4).toList()\n",
    "\n",
    "println(list)"
   ]
  },
  {
   "metadata": {},
   "cell_type": "markdown",
   "source": "## Loops"
  },
  {
   "metadata": {},
   "cell_type": "code",
   "outputs": [],
   "execution_count": null,
   "source": [
    "for (number in 0..9) {\n",
    "    print(number)\n",
    "}\n",
    "\n",
    "repeat(10) {\n",
    "    print(it)\n",
    "}"
   ]
  },
  {
   "metadata": {},
   "cell_type": "markdown",
   "source": "# Functions"
  },
  {
   "metadata": {},
   "cell_type": "code",
   "outputs": [],
   "execution_count": null,
   "source": [
    "fun sum(a: Int, b: Int): Int {\n",
    "    return a + b\n",
    "}\n",
    "\n",
    "fun sum2(a: Int, b: Int) = a + b\n",
    "\n",
    "fun sum3(a: Int, b: Int): Unit {\n",
    "    println(a + b)\n",
    "}\n",
    "\n",
    "fun printSum(a: Int, b: Int) {\n",
    "    println(\"sum of $a and $b is ${a + b}\")\n",
    "}\n",
    "\n",
    "sum(10, 20)"
   ]
  },
  {
   "metadata": {},
   "cell_type": "markdown",
   "source": "## Named arguments"
  },
  {
   "metadata": {},
   "cell_type": "code",
   "outputs": [],
   "execution_count": null,
   "source": [
    "fun sum(a: Int, b: Int): Int {\n",
    "    return a + b\n",
    "}\n",
    "\n",
    "sum(a = 10, b = 20)\n",
    "sum(b = 20, a = 10)"
   ]
  },
  {
   "metadata": {},
   "cell_type": "markdown",
   "source": "## Default parameter values"
  },
  {
   "metadata": {},
   "cell_type": "code",
   "outputs": [],
   "execution_count": null,
   "source": [
    "fun sum(a: Int, b: Int = 10): Int {\n",
    "    return a + b\n",
    "}\n",
    "\n",
    "sum(10)\n",
    "sum(a = 10)"
   ]
  },
  {
   "metadata": {},
   "cell_type": "markdown",
   "source": "# Null safety"
  },
  {
   "metadata": {},
   "cell_type": "code",
   "outputs": [],
   "execution_count": null,
   "source": [
    "var name: String = \"홍길동\"\n",
    "//name = null // error\n",
    "println(name.length)\n",
    "\n",
    "// nullable\n",
    "var name2: String? = \"홍길동\"\n",
    "name2 = null\n",
    "println(name2?.length)\n",
    "println(name2?.length ?: 0) // elvis operator\n",
    "\n",
    "// null 이 아님을 보증 (절대 금지)\n",
    "name = name2!!\n",
    "\n",
    "name2 = name"
   ]
  }
 ],
 "metadata": {
  "kernelspec": {
   "display_name": "Kotlin",
   "language": "kotlin",
   "name": "kotlin"
  },
  "language_info": {
   "name": "kotlin",
   "version": "2.2.20-Beta2",
   "mimetype": "text/x-kotlin",
   "file_extension": ".kt",
   "pygments_lexer": "kotlin",
   "codemirror_mode": "text/x-kotlin",
   "nbconvert_exporter": ""
  }
 },
 "nbformat": 4,
 "nbformat_minor": 0
}
