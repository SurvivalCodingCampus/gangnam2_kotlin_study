{
 "cells": [
  {
   "metadata": {},
   "cell_type": "markdown",
   "source": [
    "# 캡슐화(encapsulation)\n",
    "외부에서 접근을 제한한다.\n",
    "\n",
    "\n",
    "| 제한 범위    | 명칭         | 설정 방법              | 접근 가능한 범위                 | 사용 예시                | 특징 및 기타 설명         |\n",
    "|-------------|-------------|-----------------------|----------------------------------|-------------------------|--------------------------|\n",
    "| 제한이 가장 엄격 | private     | private 키워드         | 자기 자신의 클래스 내에서만      | `private val a = 1`     | 클래스 외부 접근 불가     |\n",
    "| 상속 범위로 제한 | protected   | protected 키워드       | 자기 클래스 + 상속받은 클래스    | `protected var b = 2`   | 자식 클래스에서 접근 가능 |\n",
    "| 모듈 단위로 제한 | internal    | internal 키워드        | 같은 모듈(프로젝트)              | `internal fun c() {}`   | 모듈 외부에서 접근 불가   |\n",
    "| 제한이 없음      | public      | 기본 값(public)        | 모든 클래스/파일/모듈            | `var d = 3` 또는 `public val e = 4` | 아무곳에서나 접근 가능   |\n",
    "\n",
    "- **private:** 현재 클래스 내부에서만 사용 가능, 외부/상속 방식 모두 차단\n",
    "- **protected:** 현재 클래스와, 상속받은 자식 클래스에서 접근 가능. 파일/Top-level에서는 사용 불가\n",
    "- **internal:** 같은 모듈 내에서만 접근 가능. 코틀린만의 고유 접근자\n",
    "- **public:** 모든 곳에서 자유롭게 접근 (생략 시 public이 기본값)\n",
    "\n"
   ]
  },
  {
   "cell_type": "code",
   "metadata": {
    "collapsed": true,
    "ExecuteTime": {
     "end_time": "2025-10-31T06:22:29.472259500Z",
     "start_time": "2025-10-31T06:22:29.340611200Z"
    }
   },
   "source": [
    "class Sword(\n",
    "    var name: String,\n",
    "    var power: Double\n",
    ") {}\n",
    "\n",
    "class Hero(\n",
    "    var name: String,\n",
    "    private var hp: Int,\n",
    "    var sword: Sword? = null,\n",
    ") {}"
   ],
   "outputs": [],
   "execution_count": 3
  },
  {
   "metadata": {},
   "cell_type": "markdown",
   "source": [
    "---\n",
    "## 코틀린의 Property와 캡슐화\n",
    "캡슐화가 적용된 변수에 대해 메서드를 통해 값을 설정하거나 가져다 사용할 수 있도록 구성한 것을 Property라고 합니다.\n",
    "코틀린에서 프로퍼티를 선언하면 자동으로 getter와 setter가 생성됩니다.\n"
   ]
  },
  {
   "metadata": {
    "ExecuteTime": {
     "end_time": "2025-10-31T06:26:32.962654Z",
     "start_time": "2025-10-31T06:26:32.816042700Z"
    }
   },
   "cell_type": "code",
   "source": [
    "class TestClass {\n",
    "    var a1: Int = 0  // getter와 setter가 자동 생성\n",
    "    val a2: Int = 0  // getter만 자동 생성 (불변)\n",
    "}\n"
   ],
   "outputs": [],
   "execution_count": 4
  },
  {
   "metadata": {},
   "cell_type": "markdown",
   "source": [
    "Decompile\n",
    "```java\n",
    "// TestClass.java\n",
    "package com.ezlevup.my.day05;\n",
    "\n",
    "import kotlin.Metadata;\n",
    "\n",
    "@Metadata(\n",
    "   mv = {2, 2, 0},\n",
    "   k = 1,\n",
    "   xi = 48,\n",
    "   d1 = {\"\\u0000\\u0014\\n\\u0002\\u0018\\u0002\\n\\u0002\\u0010\\u0000\\n\\u0002\\b\\u0003\\n\\u0002\\u0010\\b\\n\\u0002\\b\\u0007\\u0018\\u00002\\u00020\\u0001B\\u0007¢\\u0006\\u0004\\b\\u0002\\u0010\\u0003R\\u001a\\u0010\\u0004\\u001a\\u00020\\u0005X\\u0086\\u000e¢\\u0006\\u000e\\n\\u0000\\u001a\\u0004\\b\\u0006\\u0010\\u0007\\\"\\u0004\\b\\b\\u0010\\tR\\u0014\\u0010\\n\\u001a\\u00020\\u0005X\\u0086D¢\\u0006\\b\\n\\u0000\\u001a\\u0004\\b\\u000b\\u0010\\u0007¨\\u0006\\f\"},\n",
    "   d2 = {\"Lcom/ezlevup/my/day05/TestClass;\", \"\", \"<init>\", \"()V\", \"a1\", \"\", \"getA1\", \"()I\", \"setA1\", \"(I)V\", \"a2\", \"getA2\", \"Sources of kotlinstudy.main\"}\n",
    ")\n",
    "public final class TestClass {\n",
    "   private int a1;\n",
    "   private final int a2;\n",
    "\n",
    "   public final int getA1() {\n",
    "      return this.a1;\n",
    "   }\n",
    "\n",
    "   public final void setA1(int var1) {\n",
    "      this.a1 = var1;\n",
    "   }\n",
    "\n",
    "   public final int getA2() {\n",
    "      return this.a2;\n",
    "   }\n",
    "}\n",
    "```"
   ]
  },
  {
   "metadata": {},
   "cell_type": "markdown",
   "source": [
    "---\n",
    "\n",
    "## getter / setter 의 메리트\n",
    "1. Read Only, Write Only 필드의 실현\n",
    "2. 필드의 이름 등, 클래스의 내부 설계를 자유롭게 변경 가능\n",
    "3. 필드로의 액세스를 검사 가능\n",
    "4. val 은 getter 를 기본적으로 내장, var 는 getter와 setter를 내장"
   ]
  },
  {
   "metadata": {
    "ExecuteTime": {
     "end_time": "2025-10-31T07:22:34.631867800Z",
     "start_time": "2025-10-31T07:22:34.471297Z"
    }
   },
   "cell_type": "code",
   "source": [
    "// setter 에서 값의 타당성을 검사\n",
    "\n",
    "class Hero(\n",
    "    name: String,\n",
    "    var hp: Int,\n",
    "    var sword: Sword? = null,\n",
    ") {\n",
    "    var name: String = name\n",
    "        set(value) {\n",
    "            if (value.length <= 1) {\n",
    "                throw IllegalArgumentException(\"이름이 너무 짧습니다.\")\n",
    "            }\n",
    "            if (value.length >= 8) {\n",
    "                throw IllegalArgumentException(\"이름이 너무 깁니다.\")\n",
    "            }\n",
    "            field = value\n",
    "        }\n",
    "}\n",
    "\n",
    "val hero = Hero(\"lee\", 100)\n",
    "// hero.name = \"a12345678\"\n",
    "// hero.name = \"a\"\n",
    "hero.name = \"kim\"\n"
   ],
   "outputs": [],
   "execution_count": 9
  },
  {
   "metadata": {
    "ExecuteTime": {
     "end_time": "2025-10-31T07:35:49.985309900Z",
     "start_time": "2025-10-31T07:35:49.825737Z"
    }
   },
   "cell_type": "code",
   "source": [
    "class Hero2(\n",
    "    name: String,\n",
    "    var hp: Int,\n",
    "    var sword: Sword? = null,\n",
    ") {\n",
    "    var name: String = name\n",
    "        set(value) {\n",
    "            require(value.length > 1) { \"이름이 너무 짧습니다.\" }\n",
    "            require(value.length < 8) { \"이름이 너무 긻니다.\" }\n",
    "            field = value\n",
    "        }\n",
    "}\n",
    "\n",
    "val hero2 = Hero2(\"lee\", 100)\n",
    "// hero2.name = \"a12345678\"\n",
    "// hero2.name = \"a\"\n",
    "hero2.name = \"kim\"\n"
   ],
   "outputs": [],
   "execution_count": 13
  },
  {
   "metadata": {},
   "cell_type": "markdown",
   "source": [
    "---\n",
    "\n",
    "## 정리\n",
    "### 갭슐화의 개용\n",
    "- 캡슐화를 하여 멤버나 클래스로의 접근을 제어할 수 있어요.\n",
    "- 특히, 필드에 \"현실세계에서 불가능한 값\" 이 들어가지 않로록 제어.\n",
    "\n",
    "### 멤버에 대한 접근 지정\n",
    "- private 멤버는 동일 파일내에서만 접근 가능\n",
    "- public 멤버는 모든 클래스에서 접근 가능.\n",
    "\n",
    "### 클래스에 대한 접근 지정\n",
    "- 함수, 변수와 공일한 규칙\n",
    "\n",
    "### 프로퍼티(property)\n",
    "- getter/setter 를 캡슐화하여 필드처럼 직접 접근할 수 있도록 하는 문법적 요소\n"
   ]
  },
  {
   "metadata": {},
   "cell_type": "code",
   "outputs": [],
   "execution_count": null,
   "source": ""
  }
 ],
 "metadata": {
  "kernelspec": {
   "display_name": "Kotlin",
   "language": "kotlin",
   "name": "kotlin"
  },
  "language_info": {
   "name": "kotlin",
   "version": "2.2.20-Beta2",
   "mimetype": "text/x-kotlin",
   "file_extension": ".kt",
   "pygments_lexer": "kotlin",
   "codemirror_mode": "text/x-kotlin",
   "nbconvert_exporter": ""
  }
 },
 "nbformat": 4,
 "nbformat_minor": 0
}
