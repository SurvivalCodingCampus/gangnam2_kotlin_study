{
 "cells": [
  {
   "metadata": {},
   "cell_type": "markdown",
   "source": [
    "# 컬렉션\n",
    "\n",
    "## 데이터 구조에 따른 대표적인 컬렉션 (자료구조)\n",
    "\n",
    "1. List : 순서 대로 쌓여있는 구조 (아이템의 중복 허용)\n",
    "2. Map : 키(key)와 값(value)의 쌍으로 저장 (키의 중복 불가)\n",
    "3. Set : 순서가 없는 집합 (중복 불가)"
   ]
  },
  {
   "metadata": {},
   "cell_type": "markdown",
   "source": [
    "### List 문법\n",
    "\n",
    "- `listOf()` : 수정 불가 리스트\n",
    "- `mutableListOf()` : 수정 가능 리스트\n",
    "\n",
    "Array 도 있으나 가급적 List 사용함"
   ]
  },
  {
   "cell_type": "code",
   "execution_count": null,
   "metadata": {
    "collapsed": true
   },
   "outputs": [],
   "source": [
    "val names = mutableListOf<String>()\n",
    "\n",
    "names.add(\"홍길동\")\n",
    "names.add(\"한석봉\")\n",
    "names.add(\"신사임당\")\n",
    "\n",
    "println(names[1])"
   ]
  },
  {
   "metadata": {},
   "cell_type": "markdown",
   "source": [
    "### Set\n",
    "\n",
    "중복 값을 허용하지 않는 집합\n",
    "getter 는 제공하지 않기 때문에 반복이 필요하면 Iterator()를 사용하거나 forEach()를 사용\n",
    "\n",
    "List의 contains 보다 압도적으로 빠름"
   ]
  },
  {
   "metadata": {},
   "cell_type": "code",
   "outputs": [],
   "execution_count": null,
   "source": [
    "val lottoSet = setOf(1, 2, 3, 4)\n",
    "\n",
    "println(lottoSet.contains(1)) // true\n",
    "println(lottoSet.contains(5)) // false"
   ]
  },
  {
   "metadata": {},
   "cell_type": "markdown",
   "source": [
    "### Iterator\n",
    "\n",
    "List나 Set 은 요소를 탐색할 수 있는 iterator 를 제공한다"
   ]
  },
  {
   "metadata": {},
   "cell_type": "code",
   "outputs": [],
   "execution_count": null,
   "source": [
    "val subjects = listOf(10, 50, 100, 100, 50)\n",
    "\n",
    "val iterator = subjects.iterator()\n",
    "while (iterator.hasNext()) {\n",
    "    println(iterator.next())\n",
    "}"
   ]
  },
  {
   "metadata": {},
   "cell_type": "code",
   "outputs": [],
   "execution_count": null,
   "source": [
    "val lottoSet = setOf(1, 2, 3, 4, 5, 6)\n",
    "\n",
    "val iterator = lottoSet.iterator()\n",
    "while (iterator.hasNext()) {\n",
    "    println(iterator.next())\n",
    "}"
   ]
  },
  {
   "metadata": {},
   "cell_type": "markdown",
   "source": [
    "### Map\n",
    "\n",
    "키(key) : 값(value) 의 쌍으로 이루어진 요소를 담는 자료구조\n",
    "키의 중복은 허용되지 않음"
   ]
  },
  {
   "metadata": {},
   "cell_type": "code",
   "outputs": [],
   "execution_count": null,
   "source": [
    "val gildong = mapOf(\n",
    "    \"name\" to \"홍길동\",\n",
    "    \"id\" to 0,\n",
    "    \"age\" to 20,\n",
    ")"
   ]
  },
  {
   "metadata": {},
   "cell_type": "markdown",
   "source": [
    "### Map에 저장된 값을 하나씩 얻기\n",
    "\n",
    "Map 은 순서를 보장하지 않는다"
   ]
  },
  {
   "metadata": {},
   "cell_type": "code",
   "outputs": [],
   "execution_count": null,
   "source": [
    "val gildong = mapOf(\n",
    "    \"name\" to \"홍길동\",\n",
    "    \"id\" to 0,\n",
    "    \"age\" to 20,\n",
    ")\n",
    "\n",
    "gildong.entries.forEach {\n",
    "    println(it.key) // name, id, age\n",
    "    println(it.value) // 홍길동, 0, 20\n",
    "}"
   ]
  },
  {
   "metadata": {},
   "cell_type": "markdown",
   "source": [
    "### 컬렉션 선택\n",
    "\n",
    "- key, value 쌍 : Map\n",
    "- 중복 가능 : List\n",
    "- 중복 불가 : Set\n",
    "- 순서 중요 : List\n",
    "- 순서 안 중요 : Set\n",
    "- 검색 속도 중요 : Set"
   ]
  }
 ],
 "metadata": {
  "kernelspec": {
   "display_name": "Kotlin",
   "language": "kotlin",
   "name": "kotlin"
  },
  "language_info": {
   "name": "kotlin",
   "version": "2.2.20-Beta2",
   "mimetype": "text/x-kotlin",
   "file_extension": ".kt",
   "pygments_lexer": "kotlin",
   "codemirror_mode": "text/x-kotlin",
   "nbconvert_exporter": ""
  }
 },
 "nbformat": 4,
 "nbformat_minor": 0
}
