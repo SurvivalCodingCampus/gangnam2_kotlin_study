{
 "cells": [
  {
   "metadata": {},
   "cell_type": "markdown",
   "source": [
    "# 인스턴스와 클래스\n",
    "\n",
    "## 오브젝트를 도출하는 순서\n",
    "\n",
    "1. 각 오브젝트가 가지고 있을만한 \"속성\" 이나 \"동작\" 을 생각해 종류와 내용을 정의\n",
    "2. 각 오브젝트를 가상세계에 도출, 동작시켜 보기\n",
    "\n",
    "객체: 모든 것, 코드로 옮기자\n",
    "\n",
    "## 용어 정리\n",
    "\n",
    "- 오브젝트(object): 현실 세계의 모든 객체\n",
    "- 클래스(class): 오브젝트를 가상세계 용으로 구체화 한 것(붕어빵 틀)\n",
    "- 인스턴스(instance): 클래스를 활용해 메모리 상에 만들어 낸 것(붕어빵)"
   ]
  },
  {
   "metadata": {},
   "cell_type": "markdown",
   "source": "## Hero 클래스를 코드로 표현한 것"
  },
  {
   "metadata": {
    "collapsed": true
   },
   "cell_type": "code",
   "outputs": [],
   "execution_count": null,
   "source": [
    "class Hero {\n",
    "    var name: String = \"\"\n",
    "    var hp: Int = 0\n",
    "\n",
    "    fun attack() {}\n",
    "    fun run() {}\n",
    "    fun sleep() {}\n",
    "}"
   ]
  },
  {
   "metadata": {},
   "cell_type": "code",
   "outputs": [],
   "execution_count": null,
   "source": [
    "class Hero(var name: String = \"\", var hp: Int = 0) {\n",
    "    fun attack() {}\n",
    "    fun run() {}\n",
    "    fun sleep() {}\n",
    "}\n",
    "\n",
    "val hero = Hero()\n",
    "val hero2 = Hero(name = \"홍길동\", hp = 10)"
   ]
  },
  {
   "metadata": {},
   "cell_type": "markdown",
   "source": "## 필드(field)를 상수로 선언"
  },
  {
   "metadata": {},
   "cell_type": "code",
   "outputs": [],
   "execution_count": null,
   "source": [
    "class Slime(hp: Int) {\n",
    "    val level = 10\n",
    "}\n",
    "\n",
    "val slime = Slime(10)"
   ]
  },
  {
   "metadata": {},
   "cell_type": "markdown",
   "source": [
    "## 클래스와 멤버변수의 네이밍 컨벤션\n",
    "\n",
    "- **클래스명**: 명사, 맨 처음 대문자 (PascalCase)\n",
    "  예: Hero, MonsterInfo\n",
    "- **필드명**: 명사, 맨 처음 소문자, 두 번째 단어부터 대문자 (camelCase)\n",
    "  예: level, items, itemList\n",
    "- **메소드명**: 동사, 맨 처음 소문자, 두 번째 단어부터 대문자 (camelCase)\n",
    "  예: attack, findWeakPoint\n",
    "\n",
    "## 함수와 메서드\n",
    "\n",
    "- 함수\n",
    "    - 단독으로 동작하는 함수\n",
    "    - input이 같으면 output이 항상 같음\n",
    "- 메서드\n",
    "    - 클래스의 기능인 메서드\n",
    "    - input이 같아도 field에 따라 output이 달라질 수 있음\n",
    "\n",
    "## 클래스 정의에 따른 효과\n",
    "\n",
    "1. 정의한 클래스로 **인스턴스를 생성** 할 수 있다\n",
    "2. 이 클래스로 생성한 인스턴스를 넣을 수 있는 **새로운 변수의 타입이 이용 가능**해진다\n",
    "   `Hero` 클래스를 정의하면 `Hero` 타입의 변수가 이용 가능\n",
    "   `val hero = Hero(\"홍길동\", 100)`\n",
    "\n",
    "**클래스를 정의하면 이용가능한 타입의 종류가 점점 늘어남**"
   ]
  }
 ],
 "metadata": {
  "kernelspec": {
   "display_name": "Kotlin",
   "language": "kotlin",
   "name": "kotlin"
  },
  "language_info": {
   "name": "kotlin",
   "version": "2.2.20-Beta2",
   "mimetype": "text/x-kotlin",
   "file_extension": ".kt",
   "pygments_lexer": "kotlin",
   "codemirror_mode": "text/x-kotlin",
   "nbconvert_exporter": ""
  }
 },
 "nbformat": 4,
 "nbformat_minor": 0
}
